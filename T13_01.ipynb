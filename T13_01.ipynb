{
  "nbformat": 4,
  "nbformat_minor": 0,
  "metadata": {
    "colab": {
      "provenance": [],
      "include_colab_link": true
    },
    "kernelspec": {
      "name": "python3",
      "display_name": "Python 3"
    }
  },
  "cells": [
    {
      "cell_type": "markdown",
      "metadata": {
        "id": "view-in-github",
        "colab_type": "text"
      },
      "source": [
        "<a href=\"https://colab.research.google.com/github/bernaldiaz/pythonA_Z_gomila/blob/main/T13_01.ipynb\" target=\"_parent\"><img src=\"https://colab.research.google.com/assets/colab-badge.svg\" alt=\"Open In Colab\"/></a>"
      ]
    },
    {
      "cell_type": "markdown",
      "metadata": {
        "id": "PdadcDwmXHmP"
      },
      "source": [
        "# Ejercicio\n",
        "\n",
        "Vamos a crear la clase `RationalNumber`. Vamos a configurar el constructor de modo que haya un atributo `numerator` y otro `denominator`, este último con 1 como valor por defecto. Ambos atributos deben ser números enteros."
      ]
    },
    {
      "cell_type": "code",
      "source": [],
      "metadata": {
        "id": "JEUm57bFwUym"
      },
      "execution_count": null,
      "outputs": []
    },
    {
      "cell_type": "code",
      "metadata": {
        "id": "NOWl8W5dZR61"
      },
      "source": [
        "class RationalNumber():\n",
        "\n",
        "  def __init__(self, n, d = 1):\n",
        "    if type(n) is int and type(d) is int:\n",
        "      self.numerator = n\n",
        "      self.denominator = d\n",
        "    else:\n",
        "      print(\"El numerador y el denominador deben ser números enteros\")"
      ],
      "execution_count": null,
      "outputs": []
    }
  ]
}